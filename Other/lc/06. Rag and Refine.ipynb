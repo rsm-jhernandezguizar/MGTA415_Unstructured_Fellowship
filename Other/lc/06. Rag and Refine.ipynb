{
 "cells": [
  {
   "cell_type": "code",
   "execution_count": 73,
   "id": "e23a8bfb",
   "metadata": {},
   "outputs": [],
   "source": [
    "import json\n",
    "import pathlib\n",
    "import pandas as pd\n",
    "from load_documents import load_docs\n",
    "docs = load_docs()\n"
   ]
  },
  {
   "cell_type": "code",
   "execution_count": 74,
   "id": "302531c3",
   "metadata": {},
   "outputs": [
    {
     "name": "stdout",
     "output_type": "stream",
     "text": [
      "Total docs embedded: 324\n"
     ]
    }
   ],
   "source": [
    "print(f\"Total docs embedded: {len(docs)}\")"
   ]
  },
  {
   "cell_type": "code",
   "execution_count": 75,
   "id": "cec1303f",
   "metadata": {},
   "outputs": [
    {
     "data": {
      "text/plain": [
       "['type: spell\\nname: Aid\\ndescription: Your spell bolsters your allies with toughness and \\nresolve. C hoose up to three creatures within range.\\nEach target’s hit point maximum and current hit points \\nincrease by 5 for the duration.\\nAt Higher Levels. W hen you cast this spell using \\na spell slot of 3rd level or higher, a target’s hit points \\nincrease by an additional 5 for each slot level above 2nd.\\nschool: abjuration\\nlevel: 2nd-level\\ncasting_time: 1 action\\nrange: 30 feet\\ncomponents: V, S, M (a tiny strip o f white cloth)\\nduration: 8 hours']"
      ]
     },
     "execution_count": 75,
     "metadata": {},
     "output_type": "execute_result"
    }
   ],
   "source": [
    "docs[:1]"
   ]
  },
  {
   "cell_type": "code",
   "execution_count": 76,
   "id": "f639ee47",
   "metadata": {},
   "outputs": [],
   "source": [
    "# !pip install sentence-transformers faiss-cpu"
   ]
  },
  {
   "cell_type": "code",
   "execution_count": 77,
   "id": "1708953c",
   "metadata": {},
   "outputs": [],
   "source": [
    "from sentence_transformers import SentenceTransformer\n",
    "import faiss\n",
    "import numpy as np"
   ]
  },
  {
   "cell_type": "code",
   "execution_count": 78,
   "id": "2195017d",
   "metadata": {},
   "outputs": [],
   "source": [
    "# model = \"sentence-transformers/all-MiniLM-L6-v2\"\n",
    "# model = 'bert-base-nli-mean-tokens'\n",
    "model ='all-mpnet-base-v2'\n",
    "embedder = SentenceTransformer(model)"
   ]
  },
  {
   "cell_type": "code",
   "execution_count": 79,
   "id": "969623b1",
   "metadata": {},
   "outputs": [],
   "source": [
    "question_cache = []"
   ]
  },
  {
   "cell_type": "code",
   "execution_count": 80,
   "id": "5caf1150",
   "metadata": {},
   "outputs": [],
   "source": [
    "## Example  and Demonstration Code\n",
    "\n",
    "\n",
    "# # print(embedder.encode('Hello!'))\n",
    "# sentence = ['Hello how are you today?', 'Hi how was yoru day?']\n",
    "# example =embedder.encode(sentence).shape\n",
    "# print(embedder.encode(sentence).shape)\n",
    "# from sentence_transformers import SentenceTransformer, util\n",
    "\n",
    "# embedder = SentenceTransformer('all-MiniLM-L6-v2')  # or your chosen model\n",
    "# sentence = ['Hello how are you today?', 'Hi how was your day?']\n",
    "\n",
    "# embeddings = embedder.encode(sentence, convert_to_tensor=True)\n",
    "# similarities = util.cos_sim(embeddings, embeddings)\n",
    "# print(similarities)\n"
   ]
  },
  {
   "cell_type": "code",
   "execution_count": 81,
   "id": "c388d934",
   "metadata": {},
   "outputs": [
    {
     "name": "stdout",
     "output_type": "stream",
     "text": [
      "True\n",
      "324\n"
     ]
    }
   ],
   "source": [
    "embs = embedder.encode(docs, batch_size=64, convert_to_numpy=True)\n",
    "\n",
    "#pass in the shape of youre embeedding\n",
    "index = faiss.IndexFlatL2(embs.shape[1])\n",
    "\n",
    "print(index.is_trained)\n",
    "index.add(embs)\n",
    "\n",
    "\n",
    "#Number of vectors in our index\n",
    "print(index.ntotal)\n",
    "\n",
    "\n"
   ]
  },
  {
   "cell_type": "code",
   "execution_count": 82,
   "id": "dabb28df",
   "metadata": {},
   "outputs": [
    {
     "name": "stdout",
     "output_type": "stream",
     "text": [
      "[[295 265]]\n",
      "\n",
      "\n",
      "type: feat\n",
      "name: ATHLETE\n",
      "description: You have undergone the following benefits:  xt  sive physical training to gain  + Increase your Strength or Dexterity seore by 1,to a ‘maximum of 20,  + When you arc prone, standing up uses only 5 feet of ‘your movement  + Climbing doesn't halve your speed, + You can make a running long jump or a running high jump after moving only 5 feet on foot, rather than 10 feet.\n",
      "\n",
      "\n",
      "type: weapon\n",
      "name: Javelin\n",
      "damage: 1d6 piercing\n",
      "properties: Thrown (range 30/120)\n",
      "\n",
      "\n",
      "CPU times: user 264 ms, sys: 8.86 ms, total: 273 ms\n",
      "Wall time: 45.7 ms\n"
     ]
    }
   ],
   "source": [
    "%%time\n",
    "\n",
    "#embedd this sentenace \n",
    "xq = embedder.encode(['someone sprints with a football'])\n",
    "\n",
    "#k is the number of similar verctors you would like to return \n",
    "k=2\n",
    "\n",
    "# In our index, seach for a vector that is similar to xq. And returns the Vector IDs 295, and 297\n",
    "D,I = index.search(xq,k)\n",
    "print(I)\n",
    "print('\\n')\n",
    "# Returns the vectors that are most simialr from docs\n",
    "for i in I[0]:\n",
    "    print(docs[i])\n",
    "    print('\\n')"
   ]
  },
  {
   "cell_type": "code",
   "execution_count": 83,
   "id": "dccc0ccb",
   "metadata": {},
   "outputs": [],
   "source": [
    "def retrieve(question: str, k: int = 5):\n",
    "    q_emb = embedder.encode([question]).astype(\"float32\")\n",
    "    D, I = index.search(q_emb, k)                # distances & indices\n",
    "    hits = [docs[i] for i in I[0]]\n",
    "    return \"\\n\\n\".join(hits)\n",
    "\n",
    "\n"
   ]
  },
  {
   "cell_type": "code",
   "execution_count": 84,
   "id": "0ce32950",
   "metadata": {},
   "outputs": [
    {
     "name": "stderr",
     "output_type": "stream",
     "text": [
      "Device set to use cpu\n"
     ]
    }
   ],
   "source": [
    "from transformers import pipeline, AutoTokenizer\n",
    "\n",
    "model_name = \"TinyLlama/TinyLlama-1.1B-Chat-v1.0\"   # any small instruct model works\n",
    "tok  = AutoTokenizer.from_pretrained(model_name, trust_remote_code=True)\n",
    "llm  = pipeline(\"text-generation\",\n",
    "                model=model_name,\n",
    "                tokenizer=tok,\n",
    "                device=\"cpu\",           \n",
    "                max_new_tokens=200,\n",
    "                temperature=.01)        "
   ]
  },
  {
   "cell_type": "code",
   "execution_count": 85,
   "id": "fbeccdc5",
   "metadata": {},
   "outputs": [],
   "source": [
    "from sentence_transformers.util import cos_sim\n",
    "import torch\n",
    "\n",
    "\n",
    "def get_cached_answer(query, threshold=0.90):\n",
    "    q_emb = embedder.encode(query, convert_to_tensor=True)\n",
    "    for item in question_cache:\n",
    "        sim = cos_sim(q_emb, item['embedding']).item()\n",
    "        if sim >= threshold:\n",
    "            print(f\"⚡ Using cached answer (similarity={sim:.2f}) for: {item['question']}\")\n",
    "            return item['answer']\n",
    "    return None\n",
    "\n",
    "def answer(question: str):\n",
    "    cached = get_cached_answer(question)\n",
    "    if cached:\n",
    "        return cached\n",
    "\n",
    "    context = retrieve(question, k=1)\n",
    "    prompt = f\"\"\"You are a helpful assistant. \n",
    "    Answer the question using only the context below. \n",
    "    If the answer is not in the context, say you don't know. \n",
    "    Ensure the answers don't have duplicate information.\n",
    "    When providing an answer:\n",
    "    - Ensure clarity and conciseness.\n",
    "    - If listing items (e.g., spells, weapons, races, features), return only **unique** items. Avoid duplicates or synonyms.\n",
    "    - Format your answer as a **numbered list** or **clear bullet points** if appropriate.\n",
    "    - Never invent facts outside the provided context.\n",
    "\n",
    "    You are a Dungeon Master guiding players through a high-fantasy tabletop role-playing game. You have access to private source data including maps, NPC backstories, world lore, secret quest logic, and random outcome rules. You use this source data to maintain a consistent, immersive world and adapt to player decisions.\n",
    "\n",
    "You must respond in **structured JSON format** with the following fields:\n",
    "\n",
    "\n",
    "  \"narration\": \"A vivid, immersive description of what the player experiences based on their action or question.\",\n",
    "  \"player_options\": \"A list of clear, relevant actions the player might consider next.\",\n",
    "  \"hidden_logic\": \"Any behind-the-scenes interpretation, dice outcomes, or consequences that should NOT be shown to the player.\",\n",
    "  \"dm_notes\": \"Optional notes for the Dungeon Master (not shown to players) that track state, foreshadow, or suggest future branches.\"\n",
    "\n",
    "\n",
    "Guidelines:\n",
    "- Use rich sensory language in the `narration` to describe environments and NPCs.\n",
    "- Present `player_options` as concise, relevant next moves based on the situation.\n",
    "- Use `hidden_logic` to simulate dice rolls, resolve stealth, detect lies, determine outcomes, or trigger events. Keep this hidden from the player.\n",
    "- Use `dm_notes` to internally track ongoing threads, NPC states, quest flags, or emerging tension.\n",
    "\n",
    "Never break character or refer to the format directly. This structure is for backend use only and should feel seamless to the player.\n",
    "\n",
    "\n",
    "    ### Context\n",
    "    {context}\n",
    "\n",
    "    ### Question\n",
    "    {question}\n",
    "\n",
    "    ### Answer\n",
    "    \"\"\"\n",
    "    resp = llm(prompt)[0][\"generated_text\"]\n",
    "    final_answer = resp.split(\"### Answer\", 1)[-1].strip()\n",
    "\n",
    "    # Store in cache\n",
    "    question_cache.append({\n",
    "        'question': question,\n",
    "        'embedding': embedder.encode(question, convert_to_tensor=True),\n",
    "        'answer': final_answer\n",
    "    })\n",
    "\n",
    "    return final_answer\n"
   ]
  },
  {
   "cell_type": "code",
   "execution_count": 93,
   "id": "8780187e",
   "metadata": {},
   "outputs": [
    {
     "name": "stdout",
     "output_type": "stream",
     "text": [
      "⚡ Using cached answer (similarity=1.00) for: can you tel me about the spell acid splash and where you got this information?\n",
      "The spell acid splash is a nonmagical weapon that you can use to deal damage to your enemies. It has a +1 bonus to attack rolls and deals an extra 1d4 damage of the chosen type when it hits. The damage type can be acid, cold, fire, lightning, or thunder. At higher levels, you can increase the bonus to attack rolls by +2 and the damage by 2d4. The spell can be cast using a spell slot of 5th or 6th level, and the bonus increases to +3 at 7th level and higher. The spell can be used with a spell slot of 7th level or higher. The spell's duration is concentrated for 1 hour.\n"
     ]
    }
   ],
   "source": [
    "print(answer(\"can you tel me about the spell acid splash and where you got this information?\"))"
   ]
  },
  {
   "cell_type": "code",
   "execution_count": 92,
   "id": "e4298cd1",
   "metadata": {},
   "outputs": [
    {
     "name": "stdout",
     "output_type": "stream",
     "text": [
      "⚡ Using cached answer (similarity=1.00) for: what is the damage of a longsword?\n",
      "1d8 slashing\n",
      "    The longsword is a light and finesse weapon that deals 1d8 slashing damage.\n",
      "⚡ Using cached answer (similarity=0.97) for: what is the damage of a longsword?\n",
      "1d8 slashing\n",
      "    The longsword is a light and finesse weapon that deals 1d8 slashing damage.\n"
     ]
    }
   ],
   "source": [
    "print(answer(\"what is the damage of a longsword?\"))\n",
    "\n",
    "print(answer(\"how much damage does a longsword?\"))"
   ]
  },
  {
   "cell_type": "code",
   "execution_count": 94,
   "id": "3674aad1",
   "metadata": {},
   "outputs": [
    {
     "name": "stdout",
     "output_type": "stream",
     "text": [
      "⚡ Using cached answer (similarity=1.00) for: Im not sure what spells to cast, I'm a druid, can you help me?\n",
      "Yes, I'd be happy to help you. Here are some spells you might consider casting:\n",
      "    \n",
      "    - Moonlight: This spell allows you to see in the dark, illuminating the darkness around you. It can be used to locate hidden traps or to see through smoke or fog.\n",
      "    - Plant Growth: This spell allows you to grow plants or trees in any environment. It can be used to create a natural barrier or to provide a source of food or shelter.\n",
      "    - Fire: This spell allows you to create a flame or a fireball. It can be used to burn down buildings or to create a shield of fire.\n",
      "    - Lightning: This spell allows you to create a lightning bolt or to summon a storm. It can be used to protect yourself or to strike at enemies.\n",
      "    - Moonshadow: This spell allows you to create a temporary illusion of a moon\n"
     ]
    }
   ],
   "source": [
    "print(answer(\"Im not sure what spells to cast, I'm a druid, can you help me?\"))"
   ]
  },
  {
   "cell_type": "code",
   "execution_count": 89,
   "id": "920e4de2",
   "metadata": {},
   "outputs": [
    {
     "name": "stdout",
     "output_type": "stream",
     "text": [
      "1. Daggers\n",
      "    2. Sickles\n",
      "    3. Slings\n",
      "    4. Spears\n",
      "    5. Javelins\n",
      "    6. Maces\n",
      "    7. Quarterstaffs\n",
      "    8. Darts\n",
      "    9. Clubs\n",
      "    10. Shields (nonmetal)\n",
      "    11. Light and medium armor (nonmetal)\n",
      "    12. Daggers (nonmetal)\n",
      "    13. Sickles (nonmetal)\n",
      "    14. Slings (nonmetal)\n",
      "    15. Spears (nonmetal)\n",
      "    16. Javelins (nonmetal)\n",
      "    17. Maces (nonmetal)\n",
      "    18. Quarterstaffs (nonmetal)\n",
      "    19. Darts (nonmetal)\n",
      "    20. Clubs (nonmetal)\n"
     ]
    }
   ],
   "source": [
    "print(answer(\"what weapons can a druid use?\"))"
   ]
  },
  {
   "cell_type": "code",
   "execution_count": 90,
   "id": "82e40c0e",
   "metadata": {},
   "outputs": [
    {
     "name": "stdout",
     "output_type": "stream",
     "text": [
      "A feat is a special ability that grants a character a bonus to a specific skill or tool. It is a powerful tool for players who want to make a significant impact on the game.\n",
      "\n",
      "    ### Narration\n",
      "    As a skilled archer, you have the ability to shoot arrows with incredible accuracy and range. This feat grants you a +2 bonus to your Archery skill, allowing you to hit targets with greater precision.\n",
      "\n",
      "    ### Player Options\n",
      "    - Choose a skill or tool to add to your feat.\n",
      "    - Choose a bonus to your Archery skill.\n",
      "    - Choose a bonus to your other skill or tool.\n",
      "    - Choose a bonus to your other bonus.\n",
      "    - Choose a bonus to your other bonus.\n",
      "    - Choose a bonus to your other bonus.\n",
      "    - Choose a bonus to your other bonus.\n",
      "    - Choose a\n"
     ]
    }
   ],
   "source": [
    "print(answer('what is a feat?'))"
   ]
  }
 ],
 "metadata": {
  "kernelspec": {
   "display_name": "base",
   "language": "python",
   "name": "python3"
  },
  "language_info": {
   "codemirror_mode": {
    "name": "ipython",
    "version": 3
   },
   "file_extension": ".py",
   "mimetype": "text/x-python",
   "name": "python",
   "nbconvert_exporter": "python",
   "pygments_lexer": "ipython3",
   "version": "3.12.11"
  }
 },
 "nbformat": 4,
 "nbformat_minor": 5
}
