{
 "cells": [
  {
   "cell_type": "code",
   "execution_count": 1,
   "id": "8b4582ca",
   "metadata": {},
   "outputs": [],
   "source": [
    "import praw\n",
    "import regex as re\n",
    "import numpy as np\n",
    "import pandas as pd\n",
    "import matplotlib.pyplot as plt\n",
    "import seaborn as sns\n",
    "import datetime\n",
    "import os\n",
    "import sklearn\n",
    "import nltk"
   ]
  },
  {
   "cell_type": "code",
   "execution_count": null,
   "id": "23cad355",
   "metadata": {},
   "outputs": [],
   "source": [
    "clientid = ''\n",
    "client_secret = ''\n",
    "user_agent = \"\""
   ]
  },
  {
   "cell_type": "code",
   "execution_count": 3,
   "id": "d80dc1c5",
   "metadata": {},
   "outputs": [],
   "source": [
    "reddit = praw.Reddit(\n",
    "    client_id=clientid,\n",
    "    client_secret=client_secret,\n",
    "    user_agent=user_agent\n",
    ")"
   ]
  },
  {
   "cell_type": "code",
   "execution_count": 4,
   "id": "49acfb20",
   "metadata": {},
   "outputs": [
    {
     "name": "stdout",
     "output_type": "stream",
     "text": [
      "True\n"
     ]
    }
   ],
   "source": [
    "print(reddit.read_only)\n",
    "# Output: True"
   ]
  },
  {
   "cell_type": "code",
   "execution_count": 5,
   "id": "ea319ac2",
   "metadata": {},
   "outputs": [],
   "source": [
    "import re\n",
    "\n",
    "def find_matched_terms(text, terms):\n",
    "    matched = []\n",
    "    for term in terms:\n",
    "        # Word-boundary search (e.g., matches \"lead\" but not \"leadership\")\n",
    "        pattern = rf'\\b{re.escape(term)}\\b'\n",
    "        if re.search(pattern, text, flags=re.IGNORECASE):\n",
    "            matched.append(term)\n",
    "    return matched\n"
   ]
  },
  {
   "cell_type": "code",
   "execution_count": 6,
   "id": "0d05f7dd",
   "metadata": {},
   "outputs": [],
   "source": [
    "tar_sub = 'DnD'\n",
    "battery_terms = ['spells','weapons','class','feats']\n",
    "time_filter = 'month'"
   ]
  },
  {
   "cell_type": "code",
   "execution_count": 7,
   "id": "d5c2e65b",
   "metadata": {},
   "outputs": [],
   "source": [
    "data = []\n",
    "seen_comments = set()\n",
    "\n",
    "for term in battery_terms:\n",
    "    for submission in reddit.subreddit(tar_sub).search(term, sort=\"top\", time_filter=time_filter):\n",
    "        submission.comments.replace_more(limit=0)\n",
    "        for comment in submission.comments.list():\n",
    "            if comment.id in seen_comments:\n",
    "                continue\n",
    "            text = comment.body.lower()\n",
    "            matched_terms = find_matched_terms(text, battery_terms)\n",
    "            if matched_terms:\n",
    "                data.append({\n",
    "                    'comment_id': comment.id,\n",
    "                    'author': str(comment.author),\n",
    "                    'text': text,\n",
    "                    'matched_terms': matched_terms,\n",
    "                    'submission_id': submission.id,\n",
    "                    'submission_title': submission.title\n",
    "                })\n",
    "                seen_comments.add(comment.id)\n",
    "\n",
    "# Convert to DataFrame\n",
    "df = pd.DataFrame(data)\n"
   ]
  },
  {
   "cell_type": "code",
   "execution_count": 8,
   "id": "e5b0da7e",
   "metadata": {},
   "outputs": [
    {
     "data": {
      "application/vnd.microsoft.datawrangler.viewer.v0+json": {
       "columns": [
        {
         "name": "index",
         "rawType": "int64",
         "type": "integer"
        },
        {
         "name": "comment_id",
         "rawType": "object",
         "type": "string"
        },
        {
         "name": "author",
         "rawType": "object",
         "type": "string"
        },
        {
         "name": "text",
         "rawType": "object",
         "type": "string"
        },
        {
         "name": "matched_terms",
         "rawType": "object",
         "type": "unknown"
        },
        {
         "name": "submission_id",
         "rawType": "object",
         "type": "string"
        },
        {
         "name": "submission_title",
         "rawType": "object",
         "type": "string"
        }
       ],
       "ref": "9d644ef9-a19c-48c2-b45b-9227d66c1f94",
       "rows": [
        [
         "0",
         "n27ms3n",
         "it_all_falls_apart",
         "i have a player who every session for the past 2+ years asks me what his spell attack bonus is and how his class works even though i've told him multiple times i've never played this class and it's his job to read the rules for it. i'm fine answering clarifying questions but god damn it's frustrating. this guy is in his 30's. 😑 ",
         "['class']",
         "1lvmytn",
         "No one reads the rules anymore"
        ],
        [
         "1",
         "n27iui5",
         "FatNinjaWalrus",
         "i'd just like to say that i learned nearly all the core rules, (combat, feats, magic, etc including how numbers on your sheer work) just purely from starting watching critical role midway through campaign 1. so i don't think it's that they aren't reading, i think it's that they're not *paying attention*",
         "['feats']",
         "1lvmytn",
         "No one reads the rules anymore"
        ],
        [
         "2",
         "n27phse",
         "BrokenMirrorMan",
         "i swear when people complain about player min maxing or optimizing it’s because they don’t read the books. the power difference between party members is that they don’t read what their character does. i cannot comprehend what is going on a 168 hour week to where someone has time for dnd but is unable to spend like an hour reading wtf their character to not waste time during the session slowly trying to read and comprehend the rules on the spot if they play weekly. i’m not even asking for niche rulings like carry weight, swimming, or jumping just figure out what your character does. this is made worse by the types of players who want to play spellcasters but never read their spells ahead of time to understand the gist.",
         "['spells']",
         "1lvmytn",
         "No one reads the rules anymore"
        ],
        [
         "3",
         "n27bd3i",
         "Selphie12",
         "i'm willing to admit, i'm one of those people, however i tend to be more of a practical/visual learner and i picked it up quick enough. \n\ni can't imagine being months in and not knowing how your character sheet works. \n\ni can understand where they're coming from, it can be a very intimidating hobby to start with cos it almost feels like you're doing homework to play your game, but once you're in it, i've found it very intuitive. patience seems to be key here and also making sure your players are aware of your frustrations. \n\nat least it's not pathfinder. months later and i still don't know how to pick my archetype feats",
         "['feats']",
         "1lvmytn",
         "No one reads the rules anymore"
        ],
        [
         "4",
         "n27h67c",
         "LucielFairy",
         "as someone who has dm’d at many tables for one shots and campaigns since 2018, i can tell you… this never changes. most of the people i dm’d who came to my table didn’t see/listen to a dnd podcast beforehand, they were convinced to do it by a friend who most likely also don’t know the core rules, just the imaginative play. \n\nthis can be frustrating at times. \n\nbut i’ve learned to roll with it and always remind them of the rules and sit down with each player individually(if/when needed) to explain their class and even offer for them to try a different class if they’re not having as much fun as expected with the gameplay. \n\nfor one of my players, they played two campaigns with me, nearly 3 years worth of sessions and she still couldn’t always remember how to attack or what to attack with. talk about frustrating, after showing her many, many times… it just doesn’t stick with some people. \n\nin short, i don’t expect a single person to know a single rule about dnd when they sit at my table and i’m ok with that. i’m happier knowing that i helped them along their dnd journey and hope they create many more characters and stories with the friends they made along the way :)",
         "['class']",
         "1lvmytn",
         "No one reads the rules anymore"
        ]
       ],
       "shape": {
        "columns": 6,
        "rows": 5
       }
      },
      "text/html": [
       "<div>\n",
       "<style scoped>\n",
       "    .dataframe tbody tr th:only-of-type {\n",
       "        vertical-align: middle;\n",
       "    }\n",
       "\n",
       "    .dataframe tbody tr th {\n",
       "        vertical-align: top;\n",
       "    }\n",
       "\n",
       "    .dataframe thead th {\n",
       "        text-align: right;\n",
       "    }\n",
       "</style>\n",
       "<table border=\"1\" class=\"dataframe\">\n",
       "  <thead>\n",
       "    <tr style=\"text-align: right;\">\n",
       "      <th></th>\n",
       "      <th>comment_id</th>\n",
       "      <th>author</th>\n",
       "      <th>text</th>\n",
       "      <th>matched_terms</th>\n",
       "      <th>submission_id</th>\n",
       "      <th>submission_title</th>\n",
       "    </tr>\n",
       "  </thead>\n",
       "  <tbody>\n",
       "    <tr>\n",
       "      <th>0</th>\n",
       "      <td>n27ms3n</td>\n",
       "      <td>it_all_falls_apart</td>\n",
       "      <td>i have a player who every session for the past...</td>\n",
       "      <td>[class]</td>\n",
       "      <td>1lvmytn</td>\n",
       "      <td>No one reads the rules anymore</td>\n",
       "    </tr>\n",
       "    <tr>\n",
       "      <th>1</th>\n",
       "      <td>n27iui5</td>\n",
       "      <td>FatNinjaWalrus</td>\n",
       "      <td>i'd just like to say that i learned nearly all...</td>\n",
       "      <td>[feats]</td>\n",
       "      <td>1lvmytn</td>\n",
       "      <td>No one reads the rules anymore</td>\n",
       "    </tr>\n",
       "    <tr>\n",
       "      <th>2</th>\n",
       "      <td>n27phse</td>\n",
       "      <td>BrokenMirrorMan</td>\n",
       "      <td>i swear when people complain about player min ...</td>\n",
       "      <td>[spells]</td>\n",
       "      <td>1lvmytn</td>\n",
       "      <td>No one reads the rules anymore</td>\n",
       "    </tr>\n",
       "    <tr>\n",
       "      <th>3</th>\n",
       "      <td>n27bd3i</td>\n",
       "      <td>Selphie12</td>\n",
       "      <td>i'm willing to admit, i'm one of those people,...</td>\n",
       "      <td>[feats]</td>\n",
       "      <td>1lvmytn</td>\n",
       "      <td>No one reads the rules anymore</td>\n",
       "    </tr>\n",
       "    <tr>\n",
       "      <th>4</th>\n",
       "      <td>n27h67c</td>\n",
       "      <td>LucielFairy</td>\n",
       "      <td>as someone who has dm’d at many tables for one...</td>\n",
       "      <td>[class]</td>\n",
       "      <td>1lvmytn</td>\n",
       "      <td>No one reads the rules anymore</td>\n",
       "    </tr>\n",
       "  </tbody>\n",
       "</table>\n",
       "</div>"
      ],
      "text/plain": [
       "  comment_id              author  \\\n",
       "0    n27ms3n  it_all_falls_apart   \n",
       "1    n27iui5      FatNinjaWalrus   \n",
       "2    n27phse     BrokenMirrorMan   \n",
       "3    n27bd3i           Selphie12   \n",
       "4    n27h67c         LucielFairy   \n",
       "\n",
       "                                                text matched_terms  \\\n",
       "0  i have a player who every session for the past...       [class]   \n",
       "1  i'd just like to say that i learned nearly all...       [feats]   \n",
       "2  i swear when people complain about player min ...      [spells]   \n",
       "3  i'm willing to admit, i'm one of those people,...       [feats]   \n",
       "4  as someone who has dm’d at many tables for one...       [class]   \n",
       "\n",
       "  submission_id                submission_title  \n",
       "0       1lvmytn  No one reads the rules anymore  \n",
       "1       1lvmytn  No one reads the rules anymore  \n",
       "2       1lvmytn  No one reads the rules anymore  \n",
       "3       1lvmytn  No one reads the rules anymore  \n",
       "4       1lvmytn  No one reads the rules anymore  "
      ]
     },
     "execution_count": 8,
     "metadata": {},
     "output_type": "execute_result"
    }
   ],
   "source": [
    "df.head()"
   ]
  },
  {
   "cell_type": "code",
   "execution_count": 9,
   "id": "611ccad7",
   "metadata": {},
   "outputs": [],
   "source": [
    "df.to_csv('reddit_scrapes/monthly.csv')"
   ]
  }
 ],
 "metadata": {
  "kernelspec": {
   "display_name": "base",
   "language": "python",
   "name": "python3"
  },
  "language_info": {
   "codemirror_mode": {
    "name": "ipython",
    "version": 3
   },
   "file_extension": ".py",
   "mimetype": "text/x-python",
   "name": "python",
   "nbconvert_exporter": "python",
   "pygments_lexer": "ipython3",
   "version": "3.12.11"
  }
 },
 "nbformat": 4,
 "nbformat_minor": 5
}
